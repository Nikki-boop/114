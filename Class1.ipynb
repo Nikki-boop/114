{
 "cells": [
  {
   "cell_type": "code",
   "execution_count": 6,
   "id": "c51bc93e-0827-410f-88cc-4eb67920561f",
   "metadata": {},
   "outputs": [],
   "source": [
    "class Stack:\n",
    "    def __init__(self):\n",
    "        self.items=[]\n",
    "\n",
    "    def push(self, element):\n",
    "        self.items.append(element)\n",
    "\n",
    "    def pop(self):\n",
    "        return self.items.pop()\n",
    "\n",
    "    def is_empty():\n",
    "        return self.items == []\n",
    "\n",
    "    def peek():\n",
    "        return self.items[len(self.items)-1]\n",
    "\n",
    "    def size(self):\n",
    "        return len(self.items)                                                    "
   ]
  },
  {
   "cell_type": "code",
   "execution_count": 11,
   "id": "a41d59b5-47d3-4f7f-ad6b-80534a3ea59a",
   "metadata": {},
   "outputs": [
    {
     "name": "stdout",
     "output_type": "stream",
     "text": [
      "stack size:  6\n",
      "5\n",
      "4\n",
      "3\n",
      "2\n",
      "1\n",
      "0\n",
      "stack size:  6\n"
     ]
    }
   ],
   "source": [
    "stack = Stack()\n",
    "\n",
    "for number in range(6):\n",
    "    stack.push(number)\n",
    "\n",
    "result = stack.size()\n",
    "print(\"stack size: \", result)\n",
    "\n",
    "for number in range(6):\n",
    "    out = stack.pop()\n",
    "    print(out)\n",
    "\n",
    "print(\"stack size: \", result)\n",
    "\n",
    "\n"
   ]
  },
  {
   "cell_type": "code",
   "execution_count": 12,
   "id": "6e9c166a-8ec4-4c4a-84b2-09ceb03a3aca",
   "metadata": {},
   "outputs": [],
   "source": [
    "class Queue: \n",
    "    def __init__(self):\n",
    "        self.items=[]\n",
    "\n",
    "    def enqueue(self, element):\n",
    "        self.items.append(element)\n",
    "\n",
    "    def dequeue(self):\n",
    "        return self.items.pop(0)\n",
    "\n",
    "    def size(self):\n",
    "        return len(self.items)\n",
    "\n",
    "    def is_empty(self):\n",
    "        return self.items ==[]\n",
    "\n",
    "    def peek(self):\n",
    "        if not self.is_empty():\n",
    "            return self.items[0]\n",
    "        else:\n",
    "            return None"
   ]
  },
  {
   "cell_type": "code",
   "execution_count": 13,
   "id": "7181f7b0-9ba3-4242-a7e6-e793b24280f0",
   "metadata": {},
   "outputs": [
    {
     "name": "stdout",
     "output_type": "stream",
     "text": [
      "0\n",
      "1\n",
      "2\n",
      "3\n",
      "4\n",
      "5\n",
      "6\n",
      "7\n",
      "8\n",
      "9\n",
      "10\n"
     ]
    }
   ],
   "source": [
    "x = [i for i in range(11)]\n",
    "\n",
    "def delay_items(mylist):\n",
    "    myqueue = Queue()\n",
    "    for number in mylist: \n",
    "        myqueue.enqueue(number)\n",
    "    while not myqueue.is_empty():\n",
    "        print(myqueue.dequeue())\n",
    "\n",
    "delay_items(x)"
   ]
  },
  {
   "cell_type": "code",
   "execution_count": 15,
   "id": "3f93fc81-debe-4f03-914f-37262e2cde06",
   "metadata": {},
   "outputs": [],
   "source": [
    "# have to contain the same number of letters\n",
    "def anagram_check(string1, string2):\n",
    "    string1 = string1.replace(\" \", \"\").lower()\n",
    "    string2 = string2.replace(\" \", \"\").lower()\n",
    "    dict1 = {}\n",
    "    dict2 = {}\n",
    "    for number in range(len(string1)):\n",
    "        if string1[number] in dict1.keys():\n",
    "            dict1[number] += 1\n",
    "        else:\n",
    "            dict1[number] = 1\n",
    "        if string2[number] in dict2.keys():\n",
    "            dict2[number] += 1\n",
    "        else: \n",
    "            dict2[number] = 1\n",
    "    return dict1 == dict2\n",
    "    "
   ]
  },
  {
   "cell_type": "code",
   "execution_count": null,
   "id": "3daafb28-d958-435f-ab67-047406451ae5",
   "metadata": {},
   "outputs": [],
   "source": []
  }
 ],
 "metadata": {
  "kernelspec": {
   "display_name": "Python 3 (ipykernel)",
   "language": "python",
   "name": "python3"
  },
  "language_info": {
   "codemirror_mode": {
    "name": "ipython",
    "version": 3
   },
   "file_extension": ".py",
   "mimetype": "text/x-python",
   "name": "python",
   "nbconvert_exporter": "python",
   "pygments_lexer": "ipython3",
   "version": "3.10.12"
  }
 },
 "nbformat": 4,
 "nbformat_minor": 5
}
