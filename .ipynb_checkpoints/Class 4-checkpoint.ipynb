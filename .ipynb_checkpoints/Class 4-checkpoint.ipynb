{
 "cells": [
  {
   "cell_type": "markdown",
   "id": "fa077f37-375b-4098-a830-90d2eaf238d0",
   "metadata": {},
   "source": [
    "# Problem 1\n",
    "\n",
    "## Palindrom checker\n",
    "\n",
    "Given a strong, determine if it is a palindrome.\n",
    "\n",
    "### Criteria \n",
    "1. Your function should return Tru if the string is a palindrom, False otherwise\n",
    "2. A palindrome is the same string backwards, for example 'racecar' is a palindrom because it is the same in reverse. \n",
    "3. Your function must be names \"palindrome_check\" and have a worst case time cimplexity of 0(n) or better. \n",
    "\n",
    "examples: \n",
    "racecar\n",
    "1331\n",
    "abcba\n",
    "\n"
   ]
  },
  {
   "cell_type": "markdown",
   "id": "d52e850b-428b-4a77-b04f-82fbf1a901d4",
   "metadata": {},
   "source": [
    "def is_palindrome(text):\n",
    "    left = 0\n",
    "    right = len(text) - 1\n",
    "\n",
    "# parameters = text\n",
    "# text = input(\"palindrome check\")\n",
    "\n",
    "# define pointers to know where to start(pointers)\n",
    "# use the while looping statement to repeat the block of code: \n",
    "    # will need to take out spaces and convert upper and lower case\n",
    "    # need instructions to convert to lower case\n",
    "    # need instructions to skip a space\n",
    "    # compare the characters !=\n",
    "    # move pointers inward using the += or -=\n",
    "# if all are met return True\n",
    "# use if else to print the answer\n",
    "    # if is_palindrome: print (\"yes\"\n",
    "    # else: print(\"not\")\n",
    "\n",
    "\n"
   ]
  },
  {
   "cell_type": "markdown",
   "id": "2d434b22-206c-4b15-aff3-d7d6e79bedb4",
   "metadata": {},
   "source": [
    "# Problem 2\n",
    "\n",
    "## Balanced parentheses check\n",
    "\n",
    "Given a string consisting solely of some combination of the following characters: \"{\", \"(\", \"[\", \"]\", \")\", \"}\"\n",
    "... determine if it is balanced.\n",
    "\n",
    "### Criteria\n",
    "1. A string is balanced if all parentheses (or brackets/braces) close in the same order they were opened.\n",
    "2. Your function, \"balance_check\" should return True, if the string is balanced, False otherwise.\n",
    "\n",
    "### Example(s)\n",
    "```\n",
    "balanced: [[{{()}}]]\n",
    "not balanced: {{{(}}}}\n",
    "balanced: ()()()[[[]]]\n",
    "not balanced: [[[()(}()]]]\n",
    "```"
   ]
  },
  {
   "cell_type": "markdown",
   "id": "79a7ad05-fad2-4a8e-a0a9-89f23c6aab25",
   "metadata": {},
   "source": [
    "def is_balanced(text):\n",
    "\n",
    "define the matching pairs \n",
    "\n",
    "matching_pairs = {')' : '('} \n",
    "\n",
    "# use a stack algorithim to pop and append \n",
    "\n",
    "\n"
   ]
  },
  {
   "cell_type": "code",
   "execution_count": 1,
   "id": "0cdf48b9-58d5-4977-b584-0eecde1b43e4",
   "metadata": {},
   "outputs": [],
   "source": [
    "class HashTable: \n",
    "    def __init__(self, size):\n",
    "        self.size = size\n",
    "        self.slots = [None] * self.size\n",
    "        self.data = [None] * self.size\n",
    "    # Note we will only use integer keys for ease of use with the Hash Function\n",
    "    def put(self, key, data):\n",
    "        # Get the hash value\n",
    "        hashvalue = self.hashfunction(key, len(self.slots))\n",
    "        # If slot is empty \n",
    "        if  self.slots[hashvalue] == None: \n",
    "            self.slots[hashvalue] = key\n",
    "            self.data[hashvalue] = data\n",
    "        else: \n",
    "            # If the key already exists, replace the old value\n",
    "            if self.slots[hashvalue] == key: \n",
    "                self.data[hashvalue] = data\n",
    "            else: \n",
    "                nextslot = self.rehash(hashvalue, len(self.slots))\n",
    "                #Get to the next slot\n",
    "                while self.slots[nextslot] != None and self.slots [nextslot] != key: \n",
    "                    nextslot = self.rehash(nextslot, len(self.slots))\n",
    "                    # Set the new key, if None\n",
    "                    if self.slots[nextslot] == None:\n",
    "                        self.slots[nextslot] = key\n",
    "                        self.data [nextslot] = data\n",
    "                    else: \n",
    "                        self.data[nextslot] = data\n",
    "\n",
    "    def hashfunction(self, key, size):\n",
    "        # remainder method\n",
    "        return key%size\n",
    "\n",
    "    def rehash(self, oldhash, size):\n",
    "        # for finding next possible positions\n",
    "        returns (oldhash+1)%size\n",
    "\n",
    "    def get(self, key):\n",
    "        startslot = self.hashfunction(key, len(self.slots))\n",
    "        data = None\n",
    "        stop = False\n",
    "        found = False\n",
    "        position = startslot\n",
    "\n",
    "        while self.slots[position] != None and not found and not stop: \n",
    "            if self.slots[position] == key: \n",
    "                found = True\n",
    "                data = self.data[position]\n",
    "            else: \n",
    "                position = self.rehash(position, len(self.slots))\n",
    "                if position == startslot:\n",
    "                    stop = True\n",
    "        return data\n",
    "\n",
    "    def __getitem__(self, key):\n",
    "        return self.get(key)\n",
    "\n",
    "    def __setitem__(self, key, data):\n",
    "        self.put(key, data)\n",
    "        "
   ]
  },
  {
   "cell_type": "code",
   "execution_count": 3,
   "id": "b890d1b8-b2a2-4974-a49e-74d2594e281c",
   "metadata": {},
   "outputs": [],
   "source": [
    "def fib(n):\n",
    "    if n < 2:\n",
    "        return n\n",
    "    return fib(n-1) + fib(n-2)\n",
    "    "
   ]
  },
  {
   "cell_type": "code",
   "execution_count": 4,
   "id": "ad1c84c1-b3dc-4b66-b6a3-466489e72470",
   "metadata": {},
   "outputs": [
    {
     "data": {
      "text/plain": [
       "144"
      ]
     },
     "execution_count": 4,
     "metadata": {},
     "output_type": "execute_result"
    }
   ],
   "source": [
    "fib(12)"
   ]
  },
  {
   "cell_type": "code",
   "execution_count": null,
   "id": "14a150c7-325e-4c79-8943-b9959c93a09e",
   "metadata": {},
   "outputs": [],
   "source": []
  }
 ],
 "metadata": {
  "kernelspec": {
   "display_name": "Python 3 (ipykernel)",
   "language": "python",
   "name": "python3"
  },
  "language_info": {
   "codemirror_mode": {
    "name": "ipython",
    "version": 3
   },
   "file_extension": ".py",
   "mimetype": "text/x-python",
   "name": "python",
   "nbconvert_exporter": "python",
   "pygments_lexer": "ipython3",
   "version": "3.10.12"
  }
 },
 "nbformat": 4,
 "nbformat_minor": 5
}
