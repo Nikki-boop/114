{
 "cells": [
  {
   "cell_type": "markdown",
   "id": "c6799d0e-a5d7-4846-a172-124339f11077",
   "metadata": {},
   "source": [
    "class Node: #-defining the simple node class\n",
    "    def __init__(self, data):\n",
    "        self.data = data #store data\n",
    "        self.prev = None # previous node\n",
    "        self.next = None # next ode\n",
    "        \n",
    "class DoublyLinkedList: #-defining the Doubly Linked list class\n",
    "    def __init__(self):\n",
    "        self.head = None #-start of the list \n",
    "        self.size = 0 # initializes the size of the list to 0\n",
    "\n",
    "#Adding a node to the end of the list\n",
    "    def append(self, data):\n",
    "        new_node = Node(data)\n",
    "        if not self.head:\n",
    "            self.head = new_node\n",
    "        else: \n",
    "            temp = self.head\n",
    "            while temp.next: \n",
    "                temp = temp.next \n",
    "            temp.next = new_node\n",
    "            new_node.prev = temp\n",
    "        self.size += 1 # increment size by 1\n",
    "            \n",
    "    def show(self):\n",
    "        temp = self.head\n",
    "        while temp: \n",
    "            print(temp.data, end=\" <->\" if temp.next else \" -> None\\n\")\n",
    "            temp = temp.next\n",
    "            \n",
    "    def __len__(self):\n",
    "        return self.size\n",
    "            \n",
    "dll = DoublyLinkedList()\n",
    "dll.append(10)\n",
    "dll.append(20)\n",
    "dll.append(30)\n",
    "\n",
    "print(\"Doubly Linked List\")\n",
    "dll.show()\n",
    "\n",
    "print(\"\\nLength of the list:\", len(dll))\n",
    "        "
   ]
  },
  {
   "cell_type": "code",
   "execution_count": 6,
   "id": "aa055c9d-ad67-47d0-91ae-9f990f878d29",
   "metadata": {},
   "outputs": [],
   "source": [
    "def factorial(n):\n",
    "    if n < 1:\n",
    "        return 1\n",
    "    return n*factorial(n-1)"
   ]
  },
  {
   "cell_type": "code",
   "execution_count": 7,
   "id": "9ee40cf0-e3cf-439c-a5f6-75c57e869a56",
   "metadata": {},
   "outputs": [
    {
     "data": {
      "text/plain": [
       "120"
      ]
     },
     "execution_count": 7,
     "metadata": {},
     "output_type": "execute_result"
    }
   ],
   "source": [
    "factorial(5)"
   ]
  },
  {
   "cell_type": "markdown",
   "id": "425f6ec2-cb81-4abd-9c9e-85aff418aed3",
   "metadata": {},
   "source": [
    "def fibonacci(n):\n",
    "    if n < 2:\n",
    "        return n\n",
    "    return fibonacci(n-1) + fibonacci(n-2)\n"
   ]
  },
  {
   "cell_type": "markdown",
   "id": "d66910b8-bbbe-4cce-90cc-155e3593dede",
   "metadata": {},
   "source": [
    "## replace LRU cache with a python dictionary \n",
    "### your python dictionary should be defined outside the function\n",
    "\n",
    "    1. First, check if the parameter that is being recieved exists as a key in the dictionary, if it does, return the value \n",
    "    2. If the key is not in the dictionary, trigger the rest of the instructions in the function, but save the result as an entry in your dictionary.\n",
    "    3. Test"
   ]
  },
  {
   "cell_type": "code",
   "execution_count": null,
   "id": "b7daf75f-0265-4f29-b125-99574a4ac875",
   "metadata": {},
   "outputs": [],
   "source": [
    "class LRUCache:\n",
    "    def __init__(self, capacity):\n",
    "        # A dictionary to store the data\n",
    "        self.cache = {}\n",
    "        # A list to remember the order in which keys are used\n",
    "        self.order = []\n",
    "        # The maximum number of items allowed in the cache\n",
    "        self.capacity = capacity\n",
    "\n",
    "    def get(self, key):\n",
    "        # If the key is in the cache\n",
    "        if key in self.cache:\n",
    "            # Remove the key from its old position in the order\n",
    "            self.order.remove(key)\n",
    "            # Add the key to the end to mark it as most recently used\n",
    "            self.order.append(key)\n",
    "            # Return the value from the cache\n",
    "            return self.cache[key]\n",
    "        else:\n",
    "            # If the key is not found, return -1\n",
    "            return -1\n",
    "\n",
    "    def put(self, key, value):\n",
    "        # If the key is already in the cache\n",
    "        if key in self.cache:\n",
    "            # Remove it from the order because we will update it\n",
    "            self.order.remove(key)\n",
    "        elif len(self.cache) >= self.capacity:\n",
    "            # Remove the least recently used item (first in the order)\n",
    "            oldest_key = self.order.pop(0)\n",
    "            del self.cache[oldest_key]\n",
    "        \n",
    "        # Add the new key and value to the cache\n",
    "        self.cache[key] = value\n",
    "        # Add the key to the end of the order (most recently used)\n",
    "        self.order.append(key)\n",
    "\n",
    "# Example Usage\n",
    "lru = LRUCache(2)  # Cache can hold 2 items\n",
    "\n",
    "# Add items to the cache\n",
    "lru.put(1, \"A\")  # Cache: {1: \"A\"}\n",
    "lru.put(2, \"B\")  # Cache: {1: \"A\", 2: \"B\"}\n",
    "\n",
    "# Access an item (key 1 is now most recently used)\n",
    "print(lru.get(1))  # Output: \"A\"\n",
    "\n",
    "# Add a new item (key 3), remove least recently used (key 2)\n",
    "lru.put(3, \"C\")  # Cache: {1: \"A\", 3: \"C\"}\n",
    "\n",
    "# Try to get a removed key\n",
    "print(lru.get(2))  # Output: -1 (key 2 was removed)\n"
   ]
  }
 ],
 "metadata": {
  "kernelspec": {
   "display_name": "Python 3 (ipykernel)",
   "language": "python",
   "name": "python3"
  },
  "language_info": {
   "codemirror_mode": {
    "name": "ipython",
    "version": 3
   },
   "file_extension": ".py",
   "mimetype": "text/x-python",
   "name": "python",
   "nbconvert_exporter": "python",
   "pygments_lexer": "ipython3",
   "version": "3.10.12"
  }
 },
 "nbformat": 4,
 "nbformat_minor": 5
}
