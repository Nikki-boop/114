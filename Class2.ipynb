{
 "cells": [
  {
   "cell_type": "markdown",
   "id": "be2bfeb8-2d86-47e4-94d7-b494aa5d42c2",
   "metadata": {},
   "source": [
    "1. Singly linked lists -- which are also known as unidirectional lists\n",
    "2. double linked lists -- which are also known as bidirectional lists\n"
   ]
  },
  {
   "cell_type": "code",
   "execution_count": 6,
   "id": "77c8585a-d0c1-436f-9c70-ce89f6717172",
   "metadata": {},
   "outputs": [
    {
     "ename": "IndentationError",
     "evalue": "unindent does not match any outer indentation level (<tokenize>, line 40)",
     "output_type": "error",
     "traceback": [
      "\u001b[0;36m  File \u001b[0;32m<tokenize>:40\u001b[0;36m\u001b[0m\n\u001b[0;31m    '\u001b[0m\n\u001b[0m    ^\u001b[0m\n\u001b[0;31mIndentationError\u001b[0m\u001b[0;31m:\u001b[0m unindent does not match any outer indentation level\n"
     ]
    }
   ],
   "source": [
    "class SinglyLinkedList:\n",
    "    class __Node:\n",
    "        def __init__(self, datum):\n",
    "            self.data = datum\n",
    "            self.next = None\n",
    "\n",
    "        def __init__(self):\n",
    "            self.head = None\n",
    "            self.tail = None\n",
    "\n",
    "        def append(self, datum):\n",
    "            new_node = self.__Node(datum)\n",
    "            if not self.tail:\n",
    "                self.head = new_node\n",
    "                self.tail = new_node\n",
    "            else:\n",
    "                \n",
    "\n",
    "        def insert(self, index, datum):\n",
    "            pass\n",
    "\n",
    "        def remove(self, datum):\n",
    "            pass\n",
    "\n",
    "        def is_empty(self):\n",
    "            pass\n",
    "\n",
    "        def index(self):\n",
    "            pass\n",
    "\n",
    "        def __len__(self):\n",
    "            return 0\n",
    "\n",
    "        def __str__(self):\n",
    "            out = \"[\"\n",
    "            current = self.head\n",
    "            if current:\n",
    "                out += \"%s\" % current.data\n",
    "                current = current.next\n",
    "                while current:\n",
    "                    out += \", %s\" % current.data \n",
    "                    current = current.next\n",
    "            out += \"]\"\n",
    "            return out\n",
    " '           "
   ]
  },
  {
   "cell_type": "code",
   "execution_count": null,
   "id": "7ff47a65-d3a8-4ab1-8b26-2dd1f6475a63",
   "metadata": {},
   "outputs": [],
   "source": []
  }
 ],
 "metadata": {
  "kernelspec": {
   "display_name": "Python 3 (ipykernel)",
   "language": "python",
   "name": "python3"
  },
  "language_info": {
   "codemirror_mode": {
    "name": "ipython",
    "version": 3
   },
   "file_extension": ".py",
   "mimetype": "text/x-python",
   "name": "python",
   "nbconvert_exporter": "python",
   "pygments_lexer": "ipython3",
   "version": "3.10.12"
  }
 },
 "nbformat": 4,
 "nbformat_minor": 5
}
